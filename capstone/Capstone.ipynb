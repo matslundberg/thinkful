{
 "cells": [
  {
   "cell_type": "code",
   "execution_count": null,
   "metadata": {
    "collapsed": true
   },
   "outputs": [],
   "source": [
    "# Initial report setup.\n",
    "%matplotlib inline\n",
    "\n",
    "import seaborn as sns\n",
    "import numpy as np\n",
    "import pandas as pd\n",
    "import matplotlib.pyplot as plt\n",
    "import matplotlib\n",
    "import re\n",
    "from datetime import datetime\n",
    "import scipy.stats as stats\n",
    "from matplotlib.patches import Rectangle\n",
    "\n",
    "# Colors for graphs\n",
    "blue = (82/255, 115/255, 178/255, 0.5)\n",
    "green = (96/255, 168/255, 101/255, 0.5)\n",
    "\n",
    "yellow = (162/255, 168/255, 96/255, 0.5)\n",
    "red = (168/255, 96/255, 96/255, 0.5)"
   ]
  },
  {
   "cell_type": "markdown",
   "metadata": {},
   "source": [
    "# Capstone for Thinkful - Data Science Bootcamp\n",
    "\n",
    "## Overview\n",
    "In this report, we will compare serving size and sugar content between these two countries; United States and France. We will ask the following questions with follow-up questions:\n",
    " - Is there more sugar in liquid products than solid products?\n",
    " - Is everything bigger and sweeter in the US?\n",
    "\n",
    "To answer these questions we will be using the data source [Open Food Facts](https://www.kaggle.com/openfoodfacts/world-food-facts/data).\n",
    "\n",
    "## Data source\n",
    "The data source [Open Food Facts](https://www.kaggle.com/openfoodfacts/world-food-facts/data) is an open and collaborative database of food products from around the world. It contains information from product labels visible on product packages. This is a data source which has been built up by volunteers from around the world.\n",
    "\n",
    "The data source contains over 100 000 products from over 150 countries. And over 5000 individuals have contributed to it.\n",
    "\n",
    "Among other things, it contains the following information:\n",
    " - Countries where the product is sold (`countries_en`)\n",
    " - Amount of sugar per 100g (`sugars_100g`)\n",
    " - Serving size and packaging (`serving_size`)\n",
    " \n",
    "The data itself is quite noisy with a lot of missing or erronous data, this fact has to be considered in our analysis."
   ]
  },
  {
   "cell_type": "code",
   "execution_count": null,
   "metadata": {
    "collapsed": true
   },
   "outputs": [],
   "source": [
    "# Loading data from tab-separated file. Original data source can be downloaded here: https://www.kaggle.com/openfoodfacts/world-food-facts/data\n",
    "foodfacts = pd.read_csv('en.openfoodfacts.org.products.tsv', sep=\"\\t\", low_memory=False)\n",
    "\n",
    "# These columns which we might be interested in.\n",
    "columns = [\n",
    "    'caffeine_100g',\n",
    "    'sugars_100g',\n",
    "    'carbohydrates_100g',\n",
    "    'fiber_100g',\n",
    "    'proteins_100g',\n",
    "    'salt_100g',\n",
    "    'fat_100g'\n",
    "]\n"
   ]
  },
  {
   "cell_type": "markdown",
   "metadata": {},
   "source": [
    "## Data transformation\n",
    "Since we will compare serving size and sugar content between two countries; United States and France, we'll mainly focus on the following columns:\n",
    " - Countries where the product is sold (`countries_en`)\n",
    " - Amount of sugar per 100g (`sugars_100g`)\n",
    " - Serving size and packaging (`serving_size`)\n",
    " \n",
    "To simplify analysis we'll the following transformations \n",
    " 1. Removing \"extreme values\"\n",
    " 2. Adding features: `type` and `servingsize`\n",
    " 3. Adding features: `is_fr`, `is_us`\n",
    " 4. Removing unknown data\n",
    "\n",
    "#### 1. Removing \"extreme values\"\n",
    "To make analysis easier we'll remove extreme values from the data set. Extreme values are such values that we do not trust. It's either too large compared to rest of the dataset, or it's not logical value consindering the data.\n",
    "\n",
    "We will be removing the following values from `sugars_100g` (and `caffeine_100g`, `carbohydrates_100g`, `fiber_100g`, `proteins_100g`, `salt_100g`, `fat_100g` as these may be interesting)\n",
    " - Top 99-percentile, removes values that are too large compared to our dataset\n",
    " - All values < 0, removes values that are not logical\n",
    " "
   ]
  },
  {
   "cell_type": "code",
   "execution_count": null,
   "metadata": {
    "collapsed": true
   },
   "outputs": [],
   "source": [
    "# Remove extreme value, top 99% and everything below 0\n",
    "for column in columns:\n",
    "    foodfacts[column] = foodfacts[ foodfacts[column] < foodfacts[column].quantile(.99) ][column]\n",
    "    foodfacts[column] = foodfacts[ foodfacts[column] > 0 ][column]\n"
   ]
  },
  {
   "cell_type": "markdown",
   "metadata": {},
   "source": [
    "#### 2. Adding features: type and servingsize\n",
    "To allow us to use serving size in our analysis, we need to look at column `serving_size` to determine type of product (liquid or solid) and size of packaging. Column `serving_size` typically the following format:\n",
    " - `12 g (1 PACKAGE)`\n",
    " - `15 g (15 GRM)`\n",
    " - `240 ml (8 fl oz)`\n",
    " \n",
    "We will look at existence of `g` or `ml` to determine if the product is a solid or a liquid (feature `type`).\n",
    "And use the first number in the string to represent numeric value of serving size (feature `servingsize`)\n",
    "\n",
    "**Note!** This format is typical, but far from ever-present. Products which do not conform to this format, will be ignored in our analysis."
   ]
  },
  {
   "cell_type": "code",
   "execution_count": null,
   "metadata": {
    "collapsed": true
   },
   "outputs": [],
   "source": [
    "# Add features is_solid and is_liquid.\n",
    "foodfacts['is_solid']    = foodfacts['serving_size'].apply(lambda x: False if isinstance(x, float) else ' g ' in re.findall(' g ', x) )\n",
    "foodfacts['is_liquid']   = foodfacts['serving_size'].apply(lambda x: False if isinstance(x, float) else ' ml ' in re.findall(' ml ', x) )\n",
    "# Add feature type, based on feature is_solid, is_liquid\n",
    "# Note! There's probably a more efficient way of engineering this feature\n",
    "foodfacts['packagetype'] = foodfacts.apply(lambda x: 'liquid' if x['is_liquid'] else 'solid' if x['is_solid'] else 'unknown', axis=1 )\n",
    "\n",
    "def ext_servingsize(x):\n",
    "    if isinstance(x, float):\n",
    "        return x\n",
    "    else:\n",
    "        numbers = re.findall('\\d+', x)\n",
    "        if len(numbers) > 0:\n",
    "            return np.int(numbers[0])\n",
    "    return None\n",
    "\n",
    "# Add feature servingsize as integer\n",
    "foodfacts['servingsize'] = foodfacts['serving_size'].apply( ext_servingsize )\n"
   ]
  },
  {
   "cell_type": "markdown",
   "metadata": {},
   "source": [
    "#### 3. Adding features: `is_fr`, `is_us`\n",
    "To compare products available in France and United States, we will add the following features based on existing feature `country`:\n",
    " - `is_fr`\n",
    " - `is_us`\n"
   ]
  },
  {
   "cell_type": "code",
   "execution_count": null,
   "metadata": {
    "collapsed": true
   },
   "outputs": [],
   "source": [
    "# Defining extract functions\n",
    "def is_us(x):\n",
    "    if isinstance(x, str):\n",
    "        if 'United States' in re.findall('United States', x):\n",
    "            return False\n",
    "    return True\n",
    "\n",
    "def is_fr(x):\n",
    "    if isinstance(x, str):\n",
    "        if 'France' in re.findall('France', x):\n",
    "            return True\n",
    "    return False\n",
    "\n",
    "# Extracting the data itself\n",
    "foodfacts['is_us'] = foodfacts['countries_en'].apply(is_us)\n",
    "foodfacts['is_fr'] = foodfacts['countries_en'].apply(is_fr)"
   ]
  },
  {
   "cell_type": "markdown",
   "metadata": {},
   "source": [
    "#### 3. Removing unknown data\n",
    "For many rows we do not know the serving size or sugar content. Further, a product is not interesting for us if it's not available in the US or France. These values will be removed."
   ]
  },
  {
   "cell_type": "code",
   "execution_count": null,
   "metadata": {
    "collapsed": true
   },
   "outputs": [],
   "source": [
    "# Removing products not available in France or the US\n",
    "foodfacts = foodfacts.loc[ (foodfacts['is_us'] == True) | (foodfacts['is_fr'] == True) ]\n",
    "# Removing products where either servingsize is None or product type is unknown\n",
    "foodfacts = foodfacts.loc[ (not foodfacts['servingsize'] is None) & (foodfacts['packagetype'] != 'unknown') ]\n",
    "# Removing products where sugar content isn't known\n",
    "#foodfacts = foodfacts.loc[ (not foodfacts['sugars_100g'] is None) ]"
   ]
  },
  {
   "cell_type": "code",
   "execution_count": null,
   "metadata": {},
   "outputs": [],
   "source": [
    "foodfacts[ ['packagetype','servingsize','sugars_100g','is_fr', 'is_us'] ].head()"
   ]
  },
  {
   "cell_type": "code",
   "execution_count": null,
   "metadata": {},
   "outputs": [],
   "source": [
    "foodfacts[ ['packagetype','servingsize','sugars_100g','is_fr', 'is_us'] ]['sugars_100g'].describe()"
   ]
  },
  {
   "cell_type": "markdown",
   "metadata": {},
   "source": [
    "## Question 1: Is there more sugar in liquid products than solid products?\n",
    "There is a common belief today that sugary drinks is a one of the primary health dangers. But does a liquid product contain more sugar than a solid product?\n",
    "\n",
    "To answer this, we'll compare serving size per product type (solid vs liquid) and it's suger content.\n",
    "\n",
    "In the histogram below we see the relative frequency of sugar content in liquids compared to solids. From looking at the graph, there doesn't seem to be a discernible difference between liquids and solids when it comes to the ratio between sugar content and serving size."
   ]
  },
  {
   "cell_type": "code",
   "execution_count": null,
   "metadata": {},
   "outputs": [],
   "source": [
    "liquids = foodfacts[ foodfacts[\"packagetype\"] == \"liquid\"  ]\n",
    "solids  = foodfacts[ foodfacts[\"packagetype\"] == \"solid\"  ]\n",
    "\n",
    "plt.hist(liquids[\"sugars_100g\"].dropna(), normed=True, fc=green, label=\"Liquid\") \n",
    "plt.hist(solids[\"sugars_100g\"].dropna(), normed=True, fc=blue, label=\"Solid\") \n",
    "plt.xlabel(\"Sugar / 100g\")\n",
    "plt.ylabel(\"Relative frequency\")\n",
    "plt.title(\"Histogram, Sugar / 100 g\")\n",
    "\n",
    "# \"Proxy artist\"\n",
    "handles = [Rectangle((0,0),1,1,color=c,ec=\"k\") for c in [green,blue]]\n",
    "labels= [\"Liquid\", \"Solid\"]\n",
    "plt.legend(handles, labels)\n",
    "\n",
    "plt.show()"
   ]
  },
  {
   "cell_type": "markdown",
   "metadata": {},
   "source": [
    "A look at the statistical measurements between the two:\n",
    " - Mean is **10.71** for solids, **9.31** for liquids\n",
    " - Standard deviation is **13.94** for solids, **12.28** for liquids"
   ]
  },
  {
   "cell_type": "code",
   "execution_count": null,
   "metadata": {},
   "outputs": [],
   "source": [
    "print(foodfacts.loc[ foodfacts['packagetype'] == 'solid' ]['sugars_100g'].describe())\n",
    "print(foodfacts.loc[ foodfacts['packagetype'] == 'liquid' ]['sugars_100g'].describe())"
   ]
  },
  {
   "cell_type": "markdown",
   "metadata": {},
   "source": [
    "In order to validate our comparison of the mean and the standard deviation, we have to check that the populations are statistically similar.\n",
    "\n",
    "To check if this, we can use the **Ranksum test (aka Mann-Whitney Test)**. The p-value is 0.109, which is more that significance level of 0.05. Therefore the distributions are the same.\n",
    "\n",
    "Ranksum test compares populations and if the p-value is less than 0.05 you can say that the difference between the population medians is statistically significantly. If it's above 0.05 (as above), they are not."
   ]
  },
  {
   "cell_type": "code",
   "execution_count": null,
   "metadata": {},
   "outputs": [],
   "source": [
    "ranksum = stats.ranksums( foodfacts.loc[ foodfacts['packagetype'] == 'solid' ]['sugars_100g'], \n",
    "                foodfacts.loc[ foodfacts['packagetype'] == 'liquid' ]['sugars_100g'] )\n",
    "\n",
    "print(\"Rank sum test p-value: {:0.3f}\".format(ranksum.pvalue))"
   ]
  },
  {
   "cell_type": "markdown",
   "metadata": {},
   "source": [
    "### Conclusion: It's actually **solids which contain more sugar**."
   ]
  },
  {
   "cell_type": "markdown",
   "metadata": {},
   "source": [
    "## Question 2: Is everything bigger and sweeter in the US?\n",
    "Another common belief is that everything bigger and sweeter than in the US, but is this true?\n",
    "\n",
    "If we compare the sugar content visually between the two countries (first liquids, then solids), we get the histograms below.\n",
    "These are strikingly similar."
   ]
  },
  {
   "cell_type": "code",
   "execution_count": null,
   "metadata": {},
   "outputs": [],
   "source": [
    "plt.hist(liquids[ liquids['is_us'] ][\"sugars_100g\"].dropna(), normed=True, fc=green, label=\"Liquids - US\") \n",
    "plt.hist(liquids[ liquids['is_fr'] ][\"sugars_100g\"].dropna(), normed=True, fc=yellow, label=\"Liquids - FR\") \n",
    "\n",
    "#plt.hist(foodfacts[ foodfacts[\"packagetype\"] == \"solid\" ][\"sugars_100g\"].dropna(), normed=True, fc=blue, label=\"Solid\") \n",
    "plt.xlabel(\"Sugar / 100g\")\n",
    "plt.ylabel(\"Relative frequency\")\n",
    "plt.title(\"Histogram, Sugar / 100 g\")\n",
    "\n",
    "# \"Proxy artist\"\n",
    "handles = [Rectangle((0,0),1,1,color=c,ec=\"k\") for c in [green,yellow]]\n",
    "labels= [\"Liquids - US\", \"Liquids - FR\"]\n",
    "plt.legend(handles, labels)\n",
    "\n",
    "plt.show()\n",
    "\n",
    "plt.hist(solids[ solids['is_us'] ][\"sugars_100g\"].dropna(), normed=True, fc=blue, label=\"Solids - US\") \n",
    "plt.hist(solids[ solids['is_fr'] ][\"sugars_100g\"].dropna(), normed=True, fc=red, label=\"Solids - FR\") \n",
    "\n",
    "plt.xlabel(\"Sugar / 100g\")\n",
    "plt.ylabel(\"Relative frequency\")\n",
    "plt.title(\"Histogram, Sugar / 100 g\")\n",
    "\n",
    "# \"Proxy artist\"\n",
    "handles = [Rectangle((0,0),1,1,color=c,ec=\"k\") for c in [blue,red]]\n",
    "labels= [\"Solids - US\", \"Solids - FR\"]\n",
    "plt.legend(handles, labels)\n",
    "\n",
    "plt.show()"
   ]
  },
  {
   "cell_type": "markdown",
   "metadata": {},
   "source": [
    "We can compare populations again by looking **Mean**, **Standard Deviation** and check to see that the populations are similar with **Ranksum Test**."
   ]
  },
  {
   "cell_type": "code",
   "execution_count": null,
   "metadata": {},
   "outputs": [],
   "source": [
    "print(\"US products\")\n",
    "print(foodfacts.loc[ foodfacts['is_us'] ]['sugars_100g'].describe())\n",
    "print(\"FR products\")\n",
    "print(foodfacts.loc[ foodfacts['is_fr'] ]['sugars_100g'].describe())\n",
    "\n",
    "ranksum = stats.ranksums( foodfacts.loc[ foodfacts['is_us'] ]['sugars_100g'], \n",
    "                foodfacts.loc[ foodfacts['is_fr'] ]['sugars_100g'] )\n",
    "\n",
    "print(\"Rank sum test p-value: {:0.3f}\".format(ranksum.pvalue))\n"
   ]
  },
  {
   "cell_type": "markdown",
   "metadata": {},
   "source": [
    "### Conclusion: The **answer is no**, everything is not bigger and sweeter in the US. \n",
    "But the difference in means is very small. There might be something in our data which makes such a comparison difficult."
   ]
  },
  {
   "cell_type": "markdown",
   "metadata": {},
   "source": [
    "## Question 3: Are we comparing significantly different sets?\n",
    "Our analysis so far has shown little difference between products in the US and in France. Could this be caused by the fact that most of products available in the two markets are the same? \n",
    "\n",
    "To verify this, we will merge the two sets based on `code` (unique key for a product), and look which products are available in both US and France (in column `_merge`).\n",
    "\n",
    "As you can see in the below graph, the majority of products (92%) is common for both countries.\n",
    "\n",
    "### Conclusion: **No, we are not comparing significantly different sets**\n",
    "In fact the sets are almost identical, making our comparison so far redundant."
   ]
  },
  {
   "cell_type": "code",
   "execution_count": null,
   "metadata": {},
   "outputs": [],
   "source": [
    "merged = pd.merge(foodfacts.loc[foodfacts[\"is_us\"]], foodfacts.loc[foodfacts[\"is_fr\"]], on=['code'], indicator=True, how='outer')\n",
    "product_count = [\n",
    "    merged[ merged['_merge'] == 'right_only' ]['code'].count(),\n",
    "    merged[ merged['_merge'] == 'left_only' ]['code'].count(),\n",
    "    merged[ merged['_merge'] == 'both' ]['code'].count()]\n",
    "labels = ['Only US', 'Only France', 'Both']\n",
    "\n",
    "plt.pie(product_count, labels=labels, autopct='%1.1f%%', shadow=True, startangle=140)\n",
    "plt.axis('equal')\n",
    "plt.show()"
   ]
  },
  {
   "cell_type": "markdown",
   "metadata": {},
   "source": [
    "## Question 4: Is everything bigger and sweeter in the US? Take 2\n",
    "To improve the answer to our question, \"Is everything bigger and sweeter in the US\", we will concentrate on unique products for each market. I.e. are product Only available in the US bigger and sweeter that those Only available in France.\n",
    "\n",
    "See below illustration and comparing means for suger content and serving size between France and the US.\n",
    "\n",
    "But suprisingly, \n",
    " - Product are generally sweeter in France for both liquids and solids\n",
    " - US have larger solid serving sizes, France have larger liquid serving sizes.\n"
   ]
  },
  {
   "cell_type": "code",
   "execution_count": null,
   "metadata": {},
   "outputs": [],
   "source": [
    "not_common_foodfacts = foodfacts[ ~foodfacts['code'].isin(merged.loc[ merged['_merge'] == 'both' ]['code']) ]\n",
    "\n",
    "#sns.pairplot(x_vars=[\"sugars_100g\"], y_vars=[\"servingsize\"], data=not_common_foodfacts.loc[ (not_common_foodfacts[\"packagetype\"] == 'liquid') ], hue=\"is_fr\", size=5)\n",
    "\n",
    "liquids_sugar_fr = merged.loc[ (merged['_merge'] == 'right_only') & (merged[\"packagetype_y\"] == 'liquid') ]\n",
    "liquids_sugar_us = merged.loc[ (merged['_merge'] == 'left_only') & (merged[\"packagetype_x\"] == 'liquid') ]\n",
    "liquids_serv_fr  = merged.loc[ (merged['_merge'] == 'right_only') & (merged[\"packagetype_y\"] == 'liquid') ]\n",
    "liquids_serv_us  = merged.loc[ (merged['_merge'] == 'left_only') & (merged[\"packagetype_x\"] == 'liquid') ]\n",
    "\n",
    "solids_sugar_fr = merged.loc[ (merged['_merge'] == 'right_only') & (merged[\"packagetype_y\"] == 'solid') ]\n",
    "solids_sugar_us = merged.loc[ (merged['_merge'] == 'left_only') & (merged[\"packagetype_x\"] == 'solid') ]\n",
    "solids_serv_fr  = merged.loc[ (merged['_merge'] == 'right_only') & (merged[\"packagetype_y\"] == 'solid') ]\n",
    "solids_serv_us  = merged.loc[ (merged['_merge'] == 'left_only') & (merged[\"packagetype_x\"] == 'solid') ]\n",
    "\n",
    "both_sugar_fr = merged.loc[ (merged['_merge'] == 'right_only') ]\n",
    "both_sugar_us = merged.loc[ (merged['_merge'] == 'left_only') ]\n",
    "\n",
    "print(\"Mean sugar content liquid, France:  {:0.2f}\".format(liquids_sugar_fr['sugars_100g_y'].mean()))\n",
    "print(\"Mean sugar content liquid, US:      {:0.2f}\".format(liquids_sugar_us['sugars_100g_x'].mean()))\n",
    "print(\"Mean sugar content solid, France:   {:0.2f}\".format(solids_sugar_fr['sugars_100g_y'].mean()))\n",
    "print(\"Mean sugar content solid, US:       {:0.2f}\".format(solids_sugar_us['sugars_100g_x'].mean()))\n",
    "print()\n",
    "print(\"Mean serving size liquid, France:   {:0.2f}\".format(liquids_serv_fr['servingsize_y'].mean()))\n",
    "print(\"Mean serving size liquid, US:       {:0.2f}\".format(liquids_serv_us['servingsize_x'].mean()))\n",
    "print(\"Mean serving size solid, France:    {:0.2f}\".format(solids_serv_fr['servingsize_y'].mean()))\n",
    "print(\"Mean serving size solid, US:        {:0.2f}\".format(solids_serv_us['servingsize_x'].mean()))\n",
    "print()\n",
    "print(\"Mean sugar content, France:         {:0.2f}\".format(both_sugar_fr['sugars_100g_y'].mean()))\n",
    "print(\"Mean sugar content, US:             {:0.2f}\".format(both_sugar_us['sugars_100g_x'].mean()))\n"
   ]
  },
  {
   "cell_type": "code",
   "execution_count": null,
   "metadata": {},
   "outputs": [],
   "source": [
    "plt.figure(figsize=(15,5))\n",
    "plt.boxplot(\n",
    "    [\n",
    "        liquids_sugar_fr['sugars_100g_y'].dropna().values, \n",
    "        liquids_sugar_us['sugars_100g_x'].dropna().values,\n",
    "        solids_sugar_fr['sugars_100g_y'].dropna().values, \n",
    "        solids_sugar_us['sugars_100g_x'].dropna().values,\n",
    "        both_sugar_fr['sugars_100g_y'].dropna().values, \n",
    "        both_sugar_us['sugars_100g_x'].dropna().values\n",
    "    ],\n",
    "    labels = [\n",
    "        \"Sugar content in Liquids - FR\", \n",
    "        \"Sugar content in Liquids - US\", \n",
    "        \"Sugar content in Solids - FR\", \n",
    "        \"Sugar content in Solids - US\",\n",
    "        \"Sugar content - FR\", \n",
    "        \"Sugar content - US\"\n",
    "    ]\n",
    ")\n",
    "plt.ylabel(\"Sugar / 100g\")\n",
    "plt.title(\"Boxplot, Sugar / 100 g\")\n",
    "plt.show()\n",
    "\n",
    "plt.figure(figsize=(15,5))\n",
    "plt.boxplot(\n",
    "    [\n",
    "        liquids_serv_fr['servingsize_y'].dropna().values, \n",
    "        liquids_serv_us['servingsize_x'].dropna().values,\n",
    "    ],\n",
    "    labels = [\n",
    "        \"Serving size for Liquids - FR\", \n",
    "        \"Serving size for Liquids - US\", \n",
    "    ]\n",
    ")\n",
    "plt.ylabel(\"Serving size (ml)\")\n",
    "plt.title(\"Boxplot, Serving size (ml)\")\n",
    "plt.show()\n",
    "\n",
    "plt.figure(figsize=(15,5))\n",
    "plt.boxplot(\n",
    "    [\n",
    "        solids_serv_fr['servingsize_y'].dropna().values, \n",
    "        solids_serv_us['servingsize_x'].dropna().values,\n",
    "    ],\n",
    "    labels = [\n",
    "        \"Serving size for Solids - FR\", \n",
    "        \"Serving size for Solids - US\"\n",
    "    ]\n",
    ")\n",
    "plt.ylabel(\"Serving size (g)\")\n",
    "plt.title(\"Boxplot, Serving size (g)\")\n",
    "plt.show()\n"
   ]
  },
  {
   "cell_type": "markdown",
   "metadata": {},
   "source": [
    "And finally, we again validate that the populations are similar using **Ranksum Test**. Thus making our comparison between means valid."
   ]
  },
  {
   "cell_type": "code",
   "execution_count": null,
   "metadata": {},
   "outputs": [],
   "source": [
    "ranksum = stats.ranksums( \n",
    "merged.loc[ (merged['_merge'] == 'right_only') & (merged[\"packagetype_y\"] == 'solid') ]['sugars_100g_y'],\n",
    "merged.loc[ (merged['_merge'] == 'left_only') & (merged[\"packagetype_x\"] == 'solid') ]['sugars_100g_x']\n",
    ")\n",
    "\n",
    "print(\"Solids  - Rank sum test p-value: {:0.3f} => Similar!\".format(ranksum.pvalue))\n",
    "\n",
    "\n",
    "ranksum = stats.ranksums( \n",
    "merged.loc[ (merged['_merge'] == 'right_only') & (merged[\"packagetype_y\"] == 'liquid') ]['sugars_100g_y'],\n",
    "merged.loc[ (merged['_merge'] == 'left_only') & (merged[\"packagetype_x\"] == 'liquid') ]['sugars_100g_x']\n",
    ")\n",
    "\n",
    "print(\"Liquids - Rank sum test p-value: {:0.3f} => Similar!\".format(ranksum.pvalue))"
   ]
  },
  {
   "cell_type": "markdown",
   "metadata": {},
   "source": [
    "## Further research and Criticism\n",
    "In this report we've compared sugar content and serving size between two countries based on the dataset [Open Food Facts](https://www.kaggle.com/openfoodfacts/world-food-facts/data).\n",
    "\n",
    "As we've seen, France and the US share many similarities in food products. And difference between the two countries resulted if very few products.\n",
    "\n",
    "The comparison in this report has flaws though. Due to unclean data, the number of products compared is small (around 3000 in total). In addition, most of these products are available in both in France and the US. Making a comparison between two markets in question 4 susceptible to variations in the available product set. Therefore, our conclusions above can only serve as an indication.\n",
    "\n",
    "Further research could include:\n",
    " - Compare other countries from other parts of the world, where product similarities aren't as pronounced.\n",
    " - Compare groups of countries (e.g. North America vs Europe vs South east asia)\n",
    " - Compare other nutrient types (e.g. carbs, proteins, etc)\n",
    "\n"
   ]
  }
 ],
 "metadata": {
  "kernelspec": {
   "display_name": "Python 3",
   "language": "python",
   "name": "python3"
  },
  "language_info": {
   "codemirror_mode": {
    "name": "ipython",
    "version": 3
   },
   "file_extension": ".py",
   "mimetype": "text/x-python",
   "name": "python",
   "nbconvert_exporter": "python",
   "pygments_lexer": "ipython3",
   "version": "3.6.1"
  }
 },
 "nbformat": 4,
 "nbformat_minor": 2
}
