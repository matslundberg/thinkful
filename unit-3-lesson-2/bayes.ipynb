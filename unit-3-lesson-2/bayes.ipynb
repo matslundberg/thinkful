{
 "cells": [
  {
   "cell_type": "markdown",
   "metadata": {},
   "source": [
    "## Look over the numbers and estimate each of the four probabilities, using your intuition\n",
    "A diagnostic test has:\n",
    " - 98% probability of giving a positive result when applied to a person suffering \n",
    " - 10% probability of giving a (false) positive when applied to a non-sufferer. \n",
    " - Estimated that 0.5 % of the population are \n",
    " \n",
    "Test is now administered to a person whose disease status is unknown.\n",
    "Calculate the probability that the test will:\n",
    " - Be positive\n",
    "   - => 10%, since false positive amount is quite large\n",
    " - Correctly diagnose a sufferer of Thripshaw's \n",
    "   - => 98%\n",
    " - Correctly identify a non-sufferer of Thripshaw's\n",
    "   - => 90%\n",
    " - Misclassify the person \n",
    "   - => 10% of a false positive together over 99.5% of the population, with a 2% chance of a false negative of 0.5% over the population => 0.1*0.995 + 0.02*0.005 = 10% of missclassifying"
   ]
  },
  {
   "cell_type": "markdown",
   "metadata": {},
   "source": [
    "## Look over the numbers and estimate each of the four probabilities, using your Bayes rule\n",
    "A diagnostic test has:\n",
    " - 98% probability of giving a positive result when applied to a person suffering \n",
    " - 10% probability of giving a (false) positive when applied to a non-sufferer. \n",
    " - Estimated that 0.5 % of the population are \n",
    " \n",
    "Test is now administered to a person whose disease status is unknown.\n",
    "Calculate the probability that the test will:\n",
    "\n",
    "Bayes rule: \n",
    " - P(A | B) = P(B | A) * P(A) / [P(A)*P(B|A) + P(A~)*P(B|A~)]\n",
    " - P(A | B) = P(B | A) * P(A) / P(B)\n",
    "\n",
    "P(Positive | Not-suffering) = 0.1\n",
    "P(Positive | Suffering) = 0.98\n",
    "P(Suffering) = 0.005\n",
    "P(Not-suffering) = 0.995\n",
    "\n",
    "### Be positive\n",
    "P(Positive) = P( P(Positive | Suffering) | Positive ) + P( P(Positive | Not-suffering) | Not-suffering ) =\n",
    " 0.98 * 0.005 + 0.1 * 0.995 = 0.1044 ~ *10%*\n",
    "\n",
    "### Correctly diagnose a sufferer of Thripshaw's \n",
    "P(Positive | Suffering) = 0.98 = *98%*\n",
    "\n",
    "### Correctly identify a non-sufferer of Thripshaw's\n",
    "P(Negative | Not-suffering) = 1 - 0.1 = 0.9 = *90%*\n",
    "\n",
    "### Misclassify the person \n",
    "P(Misclassify) = 1 - ( P( P(Positive | Suffering) | Positive ) + P( P(Negative | Not-suffering) | Not-suffering ) =\n",
    "  1 - (0.98 * 0.005 + 0.9 * 0.995 = 0.0996 = *9.96%*\n"
   ]
  }
 ],
 "metadata": {
  "kernelspec": {
   "display_name": "Python 3",
   "language": "python",
   "name": "python3"
  },
  "language_info": {
   "codemirror_mode": {
    "name": "ipython",
    "version": 3
   },
   "file_extension": ".py",
   "mimetype": "text/x-python",
   "name": "python",
   "nbconvert_exporter": "python",
   "pygments_lexer": "ipython3",
   "version": "3.6.1"
  }
 },
 "nbformat": 4,
 "nbformat_minor": 2
}
