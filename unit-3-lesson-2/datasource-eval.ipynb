{
 "cells": [
  {
   "cell_type": "markdown",
   "metadata": {},
   "source": [
    "## Data Source: Amsterdam availability data scraped from AirBnB on December 24th. \n",
    "### Question: What are the popular neighborhoods in Amsterdam?\n",
    "December 24th is a poor day to determine popularity since it's a Christian holiday. Better to have scrape availability over a longer period (e.g. 1 month, 1 year) to determine popularity. Also specifiying what popular means here is good. Popular for tourists, locals etc? AirBnB is a poor data source for popular neighorhoods to live in for local people.\n",
    "\n",
    "## Data Source: Mental health services use on September 12, 2001 in San Francisco, CA and New York City, NY. \n",
    "### Question: How do patterns of mental health service use vary between cities?\n",
    "\n",
    "December 12 is day after a major event which would cause significant changes in how mental health services are used. This is especially true for NY. So comparing NY and SanFran at this date would misrepresent the true nature.\n",
    "\n",
    "## Data Source: Armenian Pub Survey. \n",
    "### Question: What are the most common reasons Armenians visit local pubs?\n",
    "Population age mostly is between 18-25. Which is not true for the Armenian people in general. Better questions would be: \"What are the most common reasons Armenian aged 18-25 visit local pubs?\""
   ]
  },
  {
   "cell_type": "code",
   "execution_count": null,
   "metadata": {
    "collapsed": true
   },
   "outputs": [],
   "source": []
  }
 ],
 "metadata": {
  "kernelspec": {
   "display_name": "Python 3",
   "language": "python",
   "name": "python3"
  },
  "language_info": {
   "codemirror_mode": {
    "name": "ipython",
    "version": 3
   },
   "file_extension": ".py",
   "mimetype": "text/x-python",
   "name": "python",
   "nbconvert_exporter": "python",
   "pygments_lexer": "ipython3",
   "version": "3.6.1"
  }
 },
 "nbformat": 4,
 "nbformat_minor": 2
}
