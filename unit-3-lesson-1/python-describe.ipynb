{
 "cells": [
  {
   "cell_type": "code",
   "execution_count": 38,
   "metadata": {},
   "outputs": [
    {
     "name": "stdout",
     "output_type": "stream",
     "text": [
      "8.428571428571429 8 8 14.61904761904762 3.8234863173611098 1.4451419909993828\n"
     ]
    }
   ],
   "source": [
    "kids = [\n",
    "    {'name': 'Marcia', 'age': 2},\n",
    "    {'name': 'Cindy', 'age': 6},\n",
    "    {'name': 'Bobby', 'age': 8},\n",
    "    {'name': 'Oliver', 'age': 8},\n",
    "    {'name': 'Jan', 'age': 10},\n",
    "    {'name': 'Peter', 'age': 11},\n",
    "    {'name': 'Greg', 'age': 14}\n",
    "]\n",
    "\n",
    "\n",
    "# mean, median, and mode\n",
    "mean = (2 + 6 + 8 + 8 + 10 + 11 + 14) / 7 # = 8.43\n",
    "median = 8                                # = 8\n",
    "mode = 8                                  # = 8\n",
    "# variance, standard deviation, and standard error\n",
    "# variance = sum((x - mean) ** 2) / (n - 1)\n",
    "variance = ((2-mean) ** 2 +\n",
    "            (6-mean) ** 2 +\n",
    "            (8-mean) ** 2 +\n",
    "            (8-mean) ** 2 +\n",
    "            (10-mean) ** 2 +\n",
    "            (11-mean) ** 2 +\n",
    "            (14-mean) ** 2) / 6           # = 14.62\n",
    "# standard deviation\n",
    "# std_dev = variance ** 0.5 \n",
    "std_dev = variance ** 0.5                 # = 3.82\n",
    "# standard error\n",
    "# std_err = std_dev / (n ** 5)\n",
    "std_err = std_dev / (7 ** 0.5)            # = 1.45\n",
    "\n",
    "print(mean, median, mode, variance, std_dev, std_err)"
   ]
  },
  {
   "cell_type": "markdown",
   "metadata": {},
   "source": [
    "## Using these estimates, if you had to choose only one estimate of central tendency and one estimate of variance to describe the data, which would you pick and why?\n",
    " - Central tendency: Median, as it's less susceptible for extremes. And the variance is quite large.\n",
    " - Variance: Use Variance, as this tells us that the data is very spread out\n"
   ]
  },
  {
   "cell_type": "code",
   "execution_count": 39,
   "metadata": {},
   "outputs": [
    {
     "name": "stdout",
     "output_type": "stream",
     "text": [
      "8.571428571428571 8 8 13.95238095238095 3.7352886036263584 1.4118063886070087\n"
     ]
    }
   ],
   "source": [
    "## Cindy has a birthday!\n",
    "kids = [\n",
    "    {'name': 'Marcia', 'age': 2},\n",
    "    {'name': 'Cindy', 'age': 7},\n",
    "    {'name': 'Bobby', 'age': 8},\n",
    "    {'name': 'Oliver', 'age': 8},\n",
    "    {'name': 'Jan', 'age': 10},\n",
    "    {'name': 'Peter', 'age': 11},\n",
    "    {'name': 'Greg', 'age': 14}\n",
    "]\n",
    "\n",
    "\n",
    "\n",
    "\n",
    "# mean, median, and mode\n",
    "mean = (2 + 7 + 8 + 8 + 10 + 11 + 14) / 7 # = 8.43\n",
    "median = 8                                # = 8\n",
    "mode = 8                                  # = 8\n",
    "# variance, standard deviation, and standard error\n",
    "# variance = sum((x - mean) ** 2) / (n - 1)\n",
    "variance = ((2-mean) ** 2 +\n",
    "            (7-mean) ** 2 +\n",
    "            (8-mean) ** 2 +\n",
    "            (8-mean) ** 2 +\n",
    "            (10-mean) ** 2 +\n",
    "            (11-mean) ** 2 +\n",
    "            (14-mean) ** 2) / 6           # = 14.62\n",
    "# standard deviation\n",
    "# std_dev = variance ** 0.5 \n",
    "std_dev = variance ** 0.5                 # = 3.82\n",
    "# standard error\n",
    "# std_err = std_dev / (n ** 5)\n",
    "std_err = std_dev / (7 ** 0.5)            # = 1.45\n",
    "\n",
    "print(mean, median, mode, variance, std_dev, std_err)"
   ]
  },
  {
   "cell_type": "markdown",
   "metadata": {},
   "source": [
    "## Cindy has a birthday. Update your estimates- what changed, and what didn't?\n",
    "- Mean increases, as would be expected\n",
    "- Variance decreases, and as follows standard deviation and error decreases\n"
   ]
  },
  {
   "cell_type": "code",
   "execution_count": 43,
   "metadata": {},
   "outputs": [
    {
     "name": "stdout",
     "output_type": "stream",
     "text": [
      "7.571428571428571 8 None 22.28571428571428 4.7207747548166585 1.784285142399542\n"
     ]
    }
   ],
   "source": [
    "## Oliver replaced by Jessica\n",
    "kids = [\n",
    "    {'name': 'Jessica', 'age': 1},\n",
    "    {'name': 'Marcia', 'age': 2},\n",
    "    {'name': 'Cindy', 'age': 7},\n",
    "    {'name': 'Bobby', 'age': 8},\n",
    "    {'name': 'Jan', 'age': 10},\n",
    "    {'name': 'Peter', 'age': 11},\n",
    "    {'name': 'Greg', 'age': 14}\n",
    "]\n",
    "\n",
    "\n",
    "# mean, median, and mode\n",
    "mean = (2 + 7 + 1 + 8 + 10 + 11 + 14) / 7 # = 7.57\n",
    "median = 8                                # = 8\n",
    "mode = None                               # = None\n",
    "# variance, standard deviation, and standard error\n",
    "# variance = sum((x - mean) ** 2) / (n - 1)\n",
    "variance = ((2-mean) ** 2 +\n",
    "            (7-mean) ** 2 +\n",
    "            (1-mean) ** 2 +\n",
    "            (8-mean) ** 2 +\n",
    "            (10-mean) ** 2 +\n",
    "            (11-mean) ** 2 +\n",
    "            (14-mean) ** 2) / 6           # = 22.29\n",
    "# standard deviation\n",
    "# std_dev = variance ** 0.5 \n",
    "std_dev = variance ** 0.5                 # = 4.72\n",
    "# standard error\n",
    "# std_err = std_dev / (n ** 5)\n",
    "std_err = std_dev / (7 ** 0.5)            # = 1.78\n",
    "\n",
    "print(mean, median, mode, variance, std_dev, std_err)"
   ]
  },
  {
   "cell_type": "markdown",
   "metadata": {},
   "source": [
    "## Oliver replaced by Jessica. Does this change your choice of central tendency or variance estimation methods?\n",
    " - Median is still reflective of central tendency\n",
    " - Still use Variance as this continues to be descriptive of the set"
   ]
  },
  {
   "cell_type": "markdown",
   "metadata": {},
   "source": [
    "## On the 50th anniversary of The Brady Bunch, four different magazines asked their readers whether they were fans of the show. The answers were: TV Guide 20% fans Entertainment Weekly 23% fans Pop Culture Today 17% fans SciPhi Phanatic 5% fans\n",
    " - Use the median `(20+17)/2 = 18.5`. This decreases input of the extreme data point SciPhi Phanatic."
   ]
  },
  {
   "cell_type": "code",
   "execution_count": 42,
   "metadata": {},
   "outputs": [
    {
     "name": "stdout",
     "output_type": "stream",
     "text": [
      "             age\n",
      "count   7.000000\n",
      "mean    7.571429\n",
      "std     4.720775\n",
      "min     1.000000\n",
      "25%     4.500000\n",
      "50%     8.000000\n",
      "75%    10.500000\n",
      "max    14.000000\n",
      "22.28571428571428\n"
     ]
    }
   ],
   "source": [
    "# Verify calculations\n",
    "\n",
    "import pandas as pd\n",
    "#df_kids = pd.DataFrame()\n",
    "df_kids = pd.DataFrame(kids, columns = kids[0].keys())\n",
    "#df_kids.from_dict(kids, ['name', 'age'])\n",
    "print( df_kids.describe() )\n",
    "print( df_kids['age'].var() )\n",
    "#print( df_kids['age'].stderr() )\n"
   ]
  }
 ],
 "metadata": {
  "kernelspec": {
   "display_name": "Python 3",
   "language": "python",
   "name": "python3"
  },
  "language_info": {
   "codemirror_mode": {
    "name": "ipython",
    "version": 3
   },
   "file_extension": ".py",
   "mimetype": "text/x-python",
   "name": "python",
   "nbconvert_exporter": "python",
   "pygments_lexer": "ipython3",
   "version": "3.6.1"
  }
 },
 "nbformat": 4,
 "nbformat_minor": 2
}
